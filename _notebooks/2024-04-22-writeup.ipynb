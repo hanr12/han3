{
 "cells": [
  {
   "cell_type": "markdown",
   "metadata": {},
   "source": [
    "---\n",
    "toc: true\n",
    "comments: true\n",
    "layout: post\n",
    "title: Write Up\n",
    "type: tangibles\n",
    "---"
   ]
  },
  {
   "cell_type": "markdown",
   "metadata": {},
   "source": [
    "For this project, I have created a database called hotlines that stores the data for the numbers and names of hotlines. I have also added columns to the user database.\n",
    "\n",
    "From VSCode using SQLite3 Editor, show your unique collection/table in database, display rows and columns in the table of the SQLite database.\n",
    "\n",
    "Therapy SQLite Database:"
   ]
  },
  {
   "cell_type": "markdown",
   "metadata": {},
   "source": [
    "Database Code:"
   ]
  },
  {
   "cell_type": "code",
   "execution_count": null,
   "metadata": {},
   "outputs": [],
   "source": [
    "class Hotline(db.Model):\n",
    "    __tablename__ = 'hotlines'\n",
    "\n",
    "    id = db.Column(db.Integer, primary_key=True)\n",
    "    _name = db.Column(db.String(255), unique=False, nullable=False)\n",
    "    _number = db.Column(db.String(255), unique=False, nullable=False)\n",
    "\n",
    "    def __init__(self, name, number):\n",
    "        self._name = name\n",
    "        self._number = number\n",
    "\n",
    "    @property\n",
    "    def name(self):\n",
    "        return self._name\n",
    "    \n",
    "    @name.setter\n",
    "    def name(self, name):\n",
    "        self._name = name\n",
    "    \n",
    "    @property\n",
    "    def number(self):\n",
    "        return self._number\n",
    "    \n",
    "    @number.setter\n",
    "    def location(self, number):\n",
    "        self._number = number\n",
    "    \n",
    "    def __str__(self):\n",
    "        return json.dumps(self.read())\n",
    "\n",
    "    def create(self):\n",
    "        try:\n",
    "            db.session.add(self)\n",
    "            db.session.commit()\n",
    "            return self\n",
    "        except IntegrityError:\n",
    "            db.session.remove()\n",
    "            return None\n",
    "\n",
    "    def read(self):\n",
    "        return {\n",
    "            \"id\": self.id,\n",
    "            \"name\": self.name,\n",
    "            \"number\": self.number,\n",
    "        }"
   ]
  },
  {
   "cell_type": "markdown",
   "metadata": {},
   "source": [
    "From VSCode model, show your unique code that was created to initialize table and create test data.\n",
    "\n",
    "Initialization Code (Testing Data):"
   ]
  },
  {
   "cell_type": "code",
   "execution_count": null,
   "metadata": {},
   "outputs": [],
   "source": [
    "def initHotlines():\n",
    "    with app.app_context():\n",
    "        db.create_all()\n",
    "        hotlines = [\n",
    "            Hotline(name=\"National Domestic Violence Hotline\", number=\"1-800-799-SAFE\"),\n",
    "            Hotline(name=\"Elder Abuse Hotline\", number=\"1-800-252-8966\"),\n",
    "            Hotline(name=\"Eating Disorders Awareness and Prevention\", number=\"1-800-931-2237\"),\n",
    "            Hotline(name=\"Family Violence Prevention Center\", number=\"1-800-313-1310\"),\n",
    "            Hotline(name=\"Compulsive Gambling Hotline\", number=\"1-410-332-0402\"),\n",
    "            Hotline(name=\"Homeless\", number=\"1-800-231-6946\"),\n",
    "            Hotline(name=\"American Family Housing\", number=\"1-888-600-4357\"),\n",
    "            Hotline(name=\"GriefShare\", number=\"1-800-395-5755\"),\n",
    "            Hotline(name=\"United STates Missing Children Hotline\", number=\"1-800-235-3525\"),\n",
    "            \n",
    "        ]\n",
    "        for hotline in hotlines:\n",
    "            try:\n",
    "                hotline.create()\n",
    "            except IntegrityError:\n",
    "                db.session.rollback()\n",
    "                print(f\"Record exists\")"
   ]
  },
  {
   "cell_type": "markdown",
   "metadata": {},
   "source": [
    "## Lists and Dictionaries\n",
    "Blog Python API code and use of List and Dictionaries.\n",
    "\n",
    "In VSCode using Debugger, show a list as extracted from database as Python objects.\n",
    "\n",
    "Activity Read List in Debugger: "
   ]
  },
  {
   "cell_type": "markdown",
   "metadata": {},
   "source": [
    "API code that fetches from the backend"
   ]
  },
  {
   "cell_type": "markdown",
   "metadata": {},
   "source": [
    "![image](https://github.com/hanr12/han3/assets/142542338/46245da2-6022-4395-8141-1360a035c844)"
   ]
  },
  {
   "cell_type": "markdown",
   "metadata": {},
   "source": [
    "GET, POST, and PUT Code:"
   ]
  },
  {
   "cell_type": "code",
   "execution_count": null,
   "metadata": {},
   "outputs": [],
   "source": [
    "def get(self):\n",
    "            activities = Activity.query.all()\n",
    "            json_ready = [activity.read() for activity in activities]\n",
    "            return jsonify(json_ready)\n",
    "    class _Create(Resource):\n",
    "        def post(self):\n",
    "            body = request.get_json()\n",
    "            # Fetch data from the form\n",
    "            name = body.get('name')\n",
    "            if name is None or len(name) < 2:\n",
    "                return {'message': f'Name is missing, or is less than 2 characters'}, 400\n",
    "            # validate location\n",
    "            location = body.get('location')\n",
    "            if location is None or len(location) < 2:\n",
    "                return {'message': f'Location is missing, or is less than 2 characters'}, 400\n",
    "            # validate location\n",
    "            special = body.get('special')\n",
    "            if special is None or len(special) < 2:\n",
    "                return {'message': f'Specialty is missing, or is less than 2 characters'}, 400\n",
    "            new_activity = Activity(name=name, location=location, special=special)\n",
    "            activity = new_activity.create()\n",
    "            # success returns json of user\n",
    "            if activity:\n",
    "                    #return jsonify(user.read())\n",
    "                    return activity.read()\n",
    "                # failure returns error\n",
    "            return {'message': f'Record already exists'}, 400"
   ]
  },
  {
   "cell_type": "markdown",
   "metadata": {},
   "source": []
  }
 ],
 "metadata": {
  "kernelspec": {
   "display_name": "Python 3",
   "language": "python",
   "name": "python3"
  },
  "language_info": {
   "name": "python",
   "version": "3.10.12"
  }
 },
 "nbformat": 4,
 "nbformat_minor": 2
}
