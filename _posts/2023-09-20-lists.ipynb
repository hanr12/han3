{
 "cells": [
  {
   "cell_type": "code",
   "execution_count": 1,
   "metadata": {},
   "outputs": [
    {
     "name": "stdout",
     "output_type": "stream",
     "text": [
      "[{'FirstName': 'Hannah', 'LastName': 'Reyes', 'DOB': 'June 5', 'Residence': 'San Diego', 'Favorite Color': 'Light Blue'}, {'FirstName': 'Nicole', 'LastName': 'Ying', 'DOB': 'July 5', 'Residence': 'San Diego', 'Favorite Color': 'Pink'}, {'FirstName': 'Charlotte', 'LastName': 'Graham', 'DOB': 'December 11', 'Residence': 'San Diego', 'Favorite Color': 'Yellow'}]\n"
     ]
    }
   ],
   "source": [
    "InfoDb = []\n",
    "\n",
    "InfoDb.append({\n",
    "    \"FirstName\": \"Hannah\",\n",
    "    \"LastName\": \"Reyes\",\n",
    "    \"DOB\": \"June 5\",\n",
    "    \"Residence\": \"San Diego\",\n",
    "    \"Favorite Color\": \"Light Blue\",\n",
    "})\n",
    "\n",
    "InfoDb.append({\n",
    "    \"FirstName\": \"Nicole\",\n",
    "    \"LastName\": \"Ying\",\n",
    "    \"DOB\": \"July 5\",\n",
    "    \"Residence\": \"San Diego\",\n",
    "    \"Favorite Color\": \"Pink\",\n",
    "})\n",
    "\n",
    "InfoDb.append({\n",
    "    \"FirstName\": \"Charlotte\",\n",
    "    \"LastName\": \"Graham\",\n",
    "    \"DOB\": \"December 11\",\n",
    "    \"Residence\": \"San Diego\",\n",
    "    \"Favorite Color\": \"Yellow\",\n",
    "})\n",
    "\n",
    "print(InfoDb)"
   ]
  },
  {
   "cell_type": "code",
   "execution_count": 13,
   "metadata": {},
   "outputs": [
    {
     "name": "stdout",
     "output_type": "stream",
     "text": [
      "For loop output\n",
      "\n",
      "Hannah Reyes\n",
      "\t Residence: San Diego\n",
      "\t Birth Day: June 5\n",
      "\t Favorite Color: Light Blue\n",
      "\n",
      "Nicole Ying\n",
      "\t Residence: San Diego\n",
      "\t Birth Day: July 5\n",
      "\t Favorite Color: Pink\n",
      "\n",
      "Charlotte Graham\n",
      "\t Residence: San Diego\n",
      "\t Birth Day: December 11\n",
      "\t Favorite Color: Yellow\n",
      "\n"
     ]
    }
   ],
   "source": [
    "# Looped/Iteration Version\n",
    "def print_data(d_rec):\n",
    "    print(d_rec[\"FirstName\"], d_rec[\"LastName\"])  \n",
    "    print(\"\\t\", \"Residence:\", d_rec[\"Residence\"]) \n",
    "    print(\"\\t\", \"Birth Day:\", d_rec[\"DOB\"])\n",
    "    print(\"\\t\", \"Favorite Color:\", d_rec[\"Favorite Color\"])\n",
    "    print()\n",
    "\n",
    "\n",
    "def for_loop():\n",
    "    print(\"For loop output\\n\")\n",
    "    for record in InfoDb:\n",
    "        print_data(record) \n",
    "\n",
    "for_loop()"
   ]
  },
  {
   "cell_type": "code",
   "execution_count": 11,
   "metadata": {},
   "outputs": [
    {
     "name": "stdout",
     "output_type": "stream",
     "text": [
      "While loop output\n",
      "\n",
      "Hannah Reyes\n",
      "\t Residence: San Diego\n",
      "\t Birth Day: June 5\n",
      "\t Favorite Color: Light Blue\n",
      "\n",
      "Nicole Ying\n",
      "\t Residence: San Diego\n",
      "\t Birth Day: July 5\n",
      "\t Favorite Color: Pink\n",
      "\n",
      "Charlotte Graham\n",
      "\t Residence: San Diego\n",
      "\t Birth Day: December 11\n",
      "\t Favorite Color: Yellow\n",
      "\n"
     ]
    }
   ],
   "source": [
    "# Loop Version 2\n",
    "def while_loop():\n",
    "    print(\"While loop output\\n\")\n",
    "    i = 0\n",
    "    while i < len(InfoDb):\n",
    "        record = InfoDb[i]\n",
    "        print_data(record)\n",
    "        i += 1\n",
    "    return\n",
    "\n",
    "while_loop()"
   ]
  },
  {
   "cell_type": "markdown",
   "metadata": {},
   "source": [
    "## Hacks\n",
    "- Add a few records to the InfoDb\n",
    "- Try to do a for loop with an index, research this as 4th way\n",
    "- Pair Share code somethings creative or unique, with loops and data. Hints...\n",
    "    - Would it be possible to output data in a reverse order?\n",
    "    - Are there other methods that can be performed on lists?\n",
    "    - Could you create new or add to dictionary InfoDB?  Could you do it with input?\n",
    "    - Make a quiz that stores in a List of Dictionaries."
   ]
  }
 ],
 "metadata": {
  "kernelspec": {
   "display_name": "Python 3.10.6 64-bit",
   "language": "python",
   "name": "python3"
  },
  "language_info": {
   "codemirror_mode": {
    "name": "ipython",
    "version": 3
   },
   "file_extension": ".py",
   "mimetype": "text/x-python",
   "name": "python",
   "nbconvert_exporter": "python",
   "pygments_lexer": "ipython3",
   "version": "3.10.8"
  },
  "orig_nbformat": 4,
  "vscode": {
   "interpreter": {
    "hash": "aee8b7b246df8f9039afb4144a1f6fd8d2ca17a180786b69acc140d282b71a49"
   }
  }
 },
 "nbformat": 4,
 "nbformat_minor": 2
}
