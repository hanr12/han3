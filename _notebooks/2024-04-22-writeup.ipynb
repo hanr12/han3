{
 "cells": [
  {
   "cell_type": "markdown",
   "metadata": {},
   "source": [
    "---\n",
    "toc: true\n",
    "comments: true\n",
    "layout: post\n",
    "title: Write Up\n",
    "type: tangibles\n",
    "---"
   ]
  },
  {
   "cell_type": "markdown",
   "metadata": {},
   "source": [
    "# Feature Writeup\n",
    "For this project, I have created a database called hotlines that stores the data for the numbers and names of hotlines. I have also added columns to the user database.\n",
    "\n",
    "From VSCode using SQLite3 Editor, show your unique collection/table in database, display rows and columns in the table of the SQLite database.\n",
    "\n",
    "Therapy SQLite Database:"
   ]
  },
  {
   "cell_type": "markdown",
   "metadata": {},
   "source": [
    "![image](https://github.com/hanr12/han3/assets/142542338/9a0343f3-3e97-45d6-b946-32b902cfda48)"
   ]
  },
  {
   "cell_type": "markdown",
   "metadata": {},
   "source": [
    "Database Code:"
   ]
  },
  {
   "cell_type": "code",
   "execution_count": null,
   "metadata": {},
   "outputs": [],
   "source": [
    "class Hotline(db.Model):\n",
    "    __tablename__ = 'hotlines'\n",
    "\n",
    "    id = db.Column(db.Integer, primary_key=True)\n",
    "    _name = db.Column(db.String(255), unique=False, nullable=False)\n",
    "    _number = db.Column(db.String(255), unique=False, nullable=False)\n",
    "\n",
    "    def __init__(self, name, number):\n",
    "        self._name = name\n",
    "        self._number = number\n",
    "\n",
    "    @property\n",
    "    def name(self):\n",
    "        return self._name\n",
    "    \n",
    "    @name.setter\n",
    "    def name(self, name):\n",
    "        self._name = name\n",
    "    \n",
    "    @property\n",
    "    def number(self):\n",
    "        return self._number\n",
    "    \n",
    "    @number.setter\n",
    "    def location(self, number):\n",
    "        self._number = number\n",
    "    \n",
    "    def __str__(self):\n",
    "        return json.dumps(self.read())\n",
    "\n",
    "    def create(self):\n",
    "        try:\n",
    "            db.session.add(self)\n",
    "            db.session.commit()\n",
    "            return self\n",
    "        except IntegrityError:\n",
    "            db.session.remove()\n",
    "            return None\n",
    "\n",
    "    def read(self):\n",
    "        return {\n",
    "            \"id\": self.id,\n",
    "            \"name\": self.name,\n",
    "            \"number\": self.number,\n",
    "        }"
   ]
  },
  {
   "cell_type": "markdown",
   "metadata": {},
   "source": [
    "From VSCode model, show your unique code that was created to initialize table and create test data.\n",
    "\n",
    "Initialization Code (Testing Data):"
   ]
  },
  {
   "cell_type": "code",
   "execution_count": null,
   "metadata": {},
   "outputs": [],
   "source": [
    "def initHotlines():\n",
    "    with app.app_context():\n",
    "        db.create_all()\n",
    "        hotlines = [\n",
    "            Hotline(name=\"National Domestic Violence Hotline\", number=\"1-800-799-SAFE\"),\n",
    "            Hotline(name=\"Elder Abuse Hotline\", number=\"1-800-252-8966\"),\n",
    "            Hotline(name=\"Eating Disorders Awareness and Prevention\", number=\"1-800-931-2237\"),\n",
    "            Hotline(name=\"Family Violence Prevention Center\", number=\"1-800-313-1310\"),\n",
    "            Hotline(name=\"Compulsive Gambling Hotline\", number=\"1-410-332-0402\"),\n",
    "            Hotline(name=\"Homeless\", number=\"1-800-231-6946\"),\n",
    "            Hotline(name=\"American Family Housing\", number=\"1-888-600-4357\"),\n",
    "            Hotline(name=\"GriefShare\", number=\"1-800-395-5755\"),\n",
    "            Hotline(name=\"United STates Missing Children Hotline\", number=\"1-800-235-3525\"),\n",
    "        ]\n",
    "        for hotline in hotlines:\n",
    "            try:\n",
    "                hotline.create()\n",
    "            except IntegrityError:\n",
    "                db.session.rollback()\n",
    "                print(f\"Record exists\")"
   ]
  },
  {
   "cell_type": "markdown",
   "metadata": {},
   "source": [
    "## Lists and Dictionaries\n",
    "Blog Python API code and use of List and Dictionaries.\n",
    "\n",
    "In VSCode using Debugger, show a list as extracted from database as Python objects.\n",
    "\n",
    "Read List in Debugger: \n",
    "- I currently have an issue where my code is able to fetch data from the backend however, due to an error (it maybe be from the unknown tuple error that I still have) it will not let me see the lists that are shown from the Debugger."
   ]
  },
  {
   "cell_type": "markdown",
   "metadata": {},
   "source": [
    "API code that fetches from the backend"
   ]
  },
  {
   "cell_type": "markdown",
   "metadata": {},
   "source": [
    "![image](https://github.com/hanr12/han3/assets/142542338/46245da2-6022-4395-8141-1360a035c844)"
   ]
  },
  {
   "cell_type": "markdown",
   "metadata": {},
   "source": [
    "GET, POST, and PUT Code:"
   ]
  },
  {
   "cell_type": "code",
   "execution_count": null,
   "metadata": {},
   "outputs": [],
   "source": [
    "# Get Code for Activities\n",
    "class _Read(Resource):\n",
    "    def get(self):\n",
    "        activities = Hotline.query.all()\n",
    "        json_ready = [hotline.read() for hotline in hotlines]\n",
    "        return jsonify(json_ready)\n",
    "# Get Code for Diary\n",
    "def get(self):\n",
    "    token = request.cookies.get(\"jwt\")\n",
    "    data = jwt.decode(token, \n",
    "                    current_app.config[\"SECRET_KEY\"], \n",
    "                    algorithms=[\"HS256\"])\n",
    "    users = User.query.all()\n",
    "    for user in users:\n",
    "        if user.uid == data[\"_uid\"]:    \n",
    "            jsonData = user.hotline\n",
    "            print(jsonData)\n",
    "            return user.hotline\n",
    "        return jsonify(jsonData)\n",
    "# Post Code\n",
    "class _Create(Resource):\n",
    "    def post(self):\n",
    "        body = request.get_json()\n",
    "        # Fetch data from the form\n",
    "        name = body.get('name')\n",
    "        if name is None or len(name) < 2:\n",
    "            return {'message': f'Name is missing, or is less than 2 characters'}, 400\n",
    "        # validate location\n",
    "        location = body.get('location')\n",
    "        if location is None or len(location) < 2:\n",
    "            return {'message': f'Location is missing, or is less than 2 characters'}, 400\n",
    "        # validate location\n",
    "        special = body.get('special')\n",
    "        if special is None or len(special) < 2:\n",
    "            return {'message': f'Specialty is missing, or is less than 2 characters'}, 400\n",
    "        new_hotline = Hotline(name=name, number=number)\n",
    "        hotline = new_hotline.create()\n",
    "        # success returns json of user\n",
    "        if hotline:\n",
    "                #return jsonify(user.read())\n",
    "                return hotline.read()\n",
    "            # failure returns error\n",
    "        return {'message': f'Record already exists'}, 400\n",
    "# Put Code\n",
    "def put(self):\n",
    "    body = request.get_json()\n",
    "    token = request.cookies.get(\"jwt\")\n",
    "    data = jwt.decode(token, \n",
    "                    current_app.config[\"SECRET_KEY\"], \n",
    "                    algorithms=[\"HS256\"])\n",
    "    hotlines = body.get('hotlines')"
   ]
  },
  {
   "cell_type": "markdown",
   "metadata": {},
   "source": [
    "Algorithmic Conditions to validate Post:"
   ]
  },
  {
   "cell_type": "code",
   "execution_count": null,
   "metadata": {},
   "outputs": [],
   "source": [
    "name = body.get('name')\n",
    "if name is None or len(name) < 2:\n",
    "    return {'message': f'Name is missing, or is less than 2 characters'}, 400\n",
    "# validate number\n",
    "number = body.get('number')\n",
    "if number is None or len(number) < 2:\n",
    "    return {'message': f'Number is missing, or is less than 2 characters'}, 400\n",
    "# success returns json of user\n",
    "if number:\n",
    "#return jsonify(user.read())\n",
    "    return number.read()"
   ]
  },
  {
   "cell_type": "markdown",
   "metadata": {},
   "source": [
    "In Postman, show URL request and Body requirements for GET, POST, and UPDATE methods."
   ]
  },
  {
   "cell_type": "markdown",
   "metadata": {},
   "source": [
    "GET:\n",
    "![image](https://github.com/hanr12/han3/assets/142542338/561a44c5-8560-4120-b04c-72ca487aff50)"
   ]
  },
  {
   "cell_type": "markdown",
   "metadata": {},
   "source": [
    "POST:\n",
    "![image](https://github.com/hanr12/han3/assets/142542338/a6826905-39df-402c-bb39-e87e9dda64e2)"
   ]
  },
  {
   "cell_type": "markdown",
   "metadata": {},
   "source": [
    "Show the JSON response data for 200 success conditions:\n",
    "![image](https://github.com/hanr12/han3/assets/142542338/92220576-b8e9-4ec8-8ddd-05b8533548a6)"
   ]
  },
  {
   "cell_type": "markdown",
   "metadata": {},
   "source": [
    "Show the JSON response for error for 400 when missing body on a POST request in Postman:\n",
    "![image](https://github.com/hanr12/han3/assets/142542338/d61d0df6-1018-4c1b-9049-39244f88e70c)"
   ]
  },
  {
   "cell_type": "markdown",
   "metadata": {},
   "source": [
    "In Postman, show the JSON response for error for 404 when providing an unknown user ID to a UPDATE request:"
   ]
  },
  {
   "cell_type": "markdown",
   "metadata": {},
   "source": [
    "The code retrieves the user's cookie and decodes it to update the user's information. This ensures that only the logged-in user's data can be updated, preventing the use of an unknown user ID. This security measure restricts access to only the user's own data for updates."
   ]
  },
  {
   "cell_type": "markdown",
   "metadata": {},
   "source": [
    "Show response of JSON objects from fetch:"
   ]
  },
  {
   "cell_type": "markdown",
   "metadata": {},
   "source": [
    "![image](https://github.com/hanr12/han3/assets/142542338/49b13033-cd9a-405b-821b-4eb0567017fb)"
   ]
  },
  {
   "cell_type": "markdown",
   "metadata": {},
   "source": [
    "Describe fetch and method that obtained the Array of JSON objects in JavaScript code:"
   ]
  },
  {
   "cell_type": "markdown",
   "metadata": {},
   "source": [
    "\n",
    "The js code uses the fetch function to make an HTTP GET request to the specified API endpoint (\"http://127.0.0.1:8086/api/hotline/\") and retrieve an array of JSON objects. It specifies the request method as 'GET' and the request headers ('Content-Type': 'application/json;charset=utf-8') in the options object. Once the response is received and parsed into a JavaScript array, the code processes the data to populate an HTML table."
   ]
  },
  {
   "cell_type": "markdown",
   "metadata": {},
   "source": [
    "Show code that performs iteration and formatting of data into HTML in JavaScript code:"
   ]
  },
  {
   "cell_type": "markdown",
   "metadata": {},
   "source": [
    "![image](https://github.com/hanr12/han3/assets/142542338/5f8661c6-22d6-45fc-9107-287d2b32de5b)"
   ]
  },
  {
   "cell_type": "markdown",
   "metadata": {},
   "source": [
    "![image](https://github.com/hanr12/han3/assets/142542338/7cd6bf8e-2c2b-44d1-9179-a1a872a2b4e2)\n",
    "![image](https://github.com/hanr12/han3/assets/142542338/ed3dc27a-8a3b-4168-899e-8b0bf988c342)"
   ]
  },
  {
   "cell_type": "markdown",
   "metadata": {},
   "source": [
    "![image](https://github.com/hanr12/han3/assets/142542338/c0faf692-f7ae-47d9-8342-e96c3b927216)"
   ]
  },
  {
   "cell_type": "markdown",
   "metadata": {},
   "source": [
    "In JavaScript code, show and describe code that handles failure. Describe how the code shows failure to the user in the Chrome Browser screen:"
   ]
  },
  {
   "cell_type": "code",
   "execution_count": null,
   "metadata": {},
   "outputs": [],
   "source": [
    "else if (response.status === 400) {\n",
    "    alert(\"Seach unsuccessful\");\n",
    "}"
   ]
  },
  {
   "cell_type": "markdown",
   "metadata": {},
   "source": [
    "If the response given was 400 instead, this code will run giving an alert to the user that there was a problem "
   ]
  },
  {
   "cell_type": "markdown",
   "metadata": {},
   "source": [
    "![image](https://github.com/hanr12/han3/assets/142542338/45efa6ec-74ca-41e4-b6d7-c5decd7f4b22)"
   ]
  },
  {
   "cell_type": "markdown",
   "metadata": {},
   "source": [
    "In JavaScript code, show and describe code that handles success. Describe how code shows success to the user in the Chrome Browser screen:"
   ]
  },
  {
   "cell_type": "code",
   "execution_count": null,
   "metadata": {},
   "outputs": [],
   "source": [
    "if (search.status === 200) {\n",
    "    alert(\"Search successful!\");\n",
    "    window.location.reload();"
   ]
  },
  {
   "cell_type": "markdown",
   "metadata": {},
   "source": [
    "If the resopnse from the backend is 200, meaning that it was successful, the code will continue and run an alert message that displays to the user that the entry was added successfully, then the page and the table will reload (as the table regenerates when the page loads), and display the new entry."
   ]
  },
  {
   "cell_type": "markdown",
   "metadata": {},
   "source": [
    "# ML Feature Writeup"
   ]
  },
  {
   "cell_type": "markdown",
   "metadata": {},
   "source": [
    "Show algorithms and preparation of data for analysis. This includes cleaning, encoding, and one-hot encoding."
   ]
  },
  {
   "cell_type": "code",
   "execution_count": null,
   "metadata": {},
   "outputs": [],
   "source": [
    "def preprocess_data(self):\n",
    "    if self.data is None:\n",
    "        raise ValueError(\"Data not loaded. Call load_data() first.\")\n",
    "\n",
    "    # Dropping unnecessary columns\n",
    "    self.data.drop(['alive', 'who', 'adult_male', 'class', 'embark_town', 'deck'], axis=1, inplace=True)\n",
    "    \n",
    "    # Converting 'sex' column to numerical format\n",
    "    self.data['sex'] = self.data['sex'].apply(lambda x: 1 if x == 'male' else 0)\n",
    "    \n",
    "    # Converting 'alone' column to numerical format\n",
    "    self.data['alone'] = self.data['alone'].apply(lambda x: 1 if x == True else 0)\n",
    "    \n",
    "    # One-hot encoding 'embarked' column\n",
    "    self.encoder = OneHotEncoder(handle_unknown='ignore')\n",
    "    self.encoder.fit(self.data[['embarked']])\n",
    "    onehot = self.encoder.transform(self.data[['embarked']]).toarray()\n",
    "    cols = ['embarked_' + val for val in self.encoder.categories_[0]]\n",
    "    self.data[cols] = pd.DataFrame(onehot)\n",
    "    \n",
    "    # Dropping the original 'embarked' column\n",
    "    self.data.drop(['embarked'], axis=1, inplace=True)\n",
    "    \n",
    "    # Dropping rows with missing values\n",
    "    self.data.dropna(inplace=True)\n"
   ]
  },
  {
   "cell_type": "markdown",
   "metadata": {},
   "source": [
    "- Unnecessary columns such as 'alive', 'who', etc., are dropped.\n",
    "- The 'sex' column is converted to a numerical format, where 'male' is represented as 1 and 'female' as 0.\n",
    "- The 'alone' column, which is boolean, is converted to a numerical format where True is represented as 1 and False as 0.\n",
    "- The 'embarked' column is one-hot encoded, creating new columns for each category ('S', 'C', 'Q') with binary values indicating presence or absence.\n",
    "- Finally, rows with missing values are dropped to ensure clean data for analysis."
   ]
  },
  {
   "cell_type": "markdown",
   "metadata": {},
   "source": [
    "Show algorithms and preparation for predictions."
   ]
  },
  {
   "cell_type": "code",
   "execution_count": null,
   "metadata": {},
   "outputs": [],
   "source": [
    "def predict_survival_probability(self, new_passenger):\n",
    "    if self.model_logreg is None:\n",
    "        raise ValueError(\"Models not trained. Call train_models() first.\")\n",
    "\n",
    "    # Preprocess the new passenger's data\n",
    "    new_passenger['sex'] = new_passenger['sex'].apply(lambda x: 1 if x == 'male' else 0)\n",
    "    new_passenger['alone'] = new_passenger['alone'].apply(lambda x: 1 if x == True else 0)\n",
    "    onehot = self.encoder.transform(new_passenger[['embarked']]).toarray()\n",
    "    cols = ['embarked_' + val for val in self.encoder.categories_[0]]\n",
    "    new_passenger[cols] = pd.DataFrame(onehot, index=new_passenger.index)\n",
    "    new_passenger.drop(['embarked'], axis=1, inplace=True)\n",
    "    new_passenger.drop(['name'], axis=1, inplace=True)\n",
    "\n",
    "    # Predict survival probability using the trained logistic regression model\n",
    "    dead_proba, alive_proba = np.squeeze(self.model_logreg.predict_proba(new_passenger))\n",
    "    print('Death probability: {:.2%}'.format(dead_proba)) \n",
    "    print('Survival probability: {:.2%}'.format(alive_proba)) \n",
    "    return dead_proba, alive_proba"
   ]
  },
  {
   "cell_type": "markdown",
   "metadata": {},
   "source": [
    "- The method checks if the logistic regression model has been trained. If not, it raises an error.\n",
    "- The passenger's name is dropped as it's not used for prediction.\n",
    "- The survival probability for the new passenger is predicted using the trained logistic regression model (model_logreg) and printed out."
   ]
  },
  {
   "cell_type": "markdown",
   "metadata": {},
   "source": [
    "Discuss concepts and understanding of Linear Regression algorithms:\n",
    "- Linear regression is a supervised machine learning method that is used by the Train Using AutoML tool and finds a linear equation that best describes the correlation of the explanatory variables with the dependent variable. This is achieved by fitting a line to the data using least squares.\n",
    "- Linear regression is a data analysis technique that predicts the value of unknown data by using another related and known data value. It mathematically models the unknown or dependent variable and the known or independent variable as a linear equation."
   ]
  },
  {
   "cell_type": "markdown",
   "metadata": {},
   "source": [
    "Discuss concepts and understanding of Decision Tree analysis algorithms:\n",
    "- Decision trees use multiple algorithms to decide to split a node into two or more sub-nodes. The creation of sub-nodes increases the homogeneity of resultant sub-nodes. In other words, we can say that the purity of the node increases with respect to the target variable.\n",
    "- A decision tree algorithm is a machine learning algorithm that uses a decision tree to make predictions. It follows a tree-like model of decisions and their possible consequences. The algorithm works by recursively splitting the data into subsets based on the most significant feature at each node of the tree."
   ]
  }
 ],
 "metadata": {
  "kernelspec": {
   "display_name": "Python 3",
   "language": "python",
   "name": "python3"
  },
  "language_info": {
   "name": "python",
   "version": "3.10.12"
  }
 },
 "nbformat": 4,
 "nbformat_minor": 2
}
