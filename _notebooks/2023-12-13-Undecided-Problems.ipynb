{
 "cells": [
  {
   "cell_type": "markdown",
   "metadata": {},
   "source": [
    "---\n",
    "toc: false\n",
    "comments: True\n",
    "layout: post\n",
    "title: Undecidable Problems\n",
    "description: :D\n",
    "type: ccc\n",
    "courses: { csp: {week: 15} }\n",
    "---"
   ]
  },
  {
   "cell_type": "markdown",
   "metadata": {},
   "source": [
    "### Decidable Problem\n",
    "\n",
    "> A decidable problem is one that we can come to a yes/no answer given any input. An examle would be given a number determine if it is divisible by 3. We know that the algorithm below would provide the correct ouput every time."
   ]
  },
  {
   "cell_type": "code",
   "execution_count": null,
   "metadata": {
    "vscode": {
     "languageId": "plaintext"
    }
   },
   "outputs": [],
   "source": [
    "PRODECURE divisbleByThree(num)\n",
    "    IF (num MOD 3 = 0) \n",
    "        RETURN true\n",
    "    ELSE\n",
    "        RETURN false"
   ]
  },
  {
   "cell_type": "markdown",
   "metadata": {},
   "source": [
    "### Undecidable Problem\n",
    "\n",
    "**Halting Problem**\n",
    "> The halting problem is defined as: Given an arbitrary computer program with given inputs will the program stop or will it run forever? \n",
    "\n",
    "\n",
    "**Undecidable Problems**\n",
    "> A problem where an algorithm cannot make a correct yes/no answer every time.\n",
    "\n",
    "One way would be to test for an ending, but what if that ending is not easily found? What if it takes an unreasonable amount of time to find the ending? Is that because there is an ending or does one not exist?\n",
    "\n",
    "You see where the problem comes in? This is an undecidable problem -- there is no algorithm which can always produce a yes/no answer for every input of the problem.\n",
    "\n",
    "**Halting Problem in Computers**\n",
    "Where may we have seen this in computers today? When a website or program takes too long to load it. It may never load, or it may just be taking a long time. Either way, after a certain time the computer decides the program should be stopped.\n",
    "\n",
    "### Popcorn Hack #1\n",
    "An algorithm can be used to solve an undecidable problem. **(True/False)**\n",
    "- False\n",
    "\n",
    "### Popcorn Hack #2 \n",
    "If a programmer encounters an undecidable problem, they can just use an alogirhtm that works most of the time. **(True/False)**\n",
    "- False"
   ]
  },
  {
   "cell_type": "markdown",
   "metadata": {},
   "source": [
    "### Scenarios of Undecidable Problems in Computing\n",
    "1. **Infinite Loop in Program Execution:**\n",
    "   - When a program enters an infinite loop, it becomes undecidable whether it will eventually terminate or run indefinitely.\n",
    "\n",
    "2. **Complex Conditional Statements:**\n",
    "   - Programs with intricate conditional statements or complex control flow may pose undecidable scenarios, making it challenging to determine their termination.\n",
    "\n",
    "3. **Non-Terminating Recursive Functions:**\n",
    "   - Recursive functions that do not have a base case or have poorly defined termination conditions can result in undecidability regarding their halting behavior.\n",
    "\n",
    "4. **Unknown Input Space Size:**\n",
    "   - In cases where the size of the input space is unknown or unbounded, it becomes difficult to ascertain if a program will halt for all possible inputs.\n",
    "\n",
    "5. **Multithreading and Concurrency:**\n",
    "   - Undecidability may arise in concurrent programs where multiple threads interact, introducing intricate synchronization and communication challenges.\n",
    "\n"
   ]
  },
  {
   "cell_type": "markdown",
   "metadata": {},
   "source": [
    "### Popcorn Hack 3\n",
    "An algorithm exists that can always produce a yes/no answer for the halting problem. (True/False)\n",
    "- False"
   ]
  },
  {
   "cell_type": "markdown",
   "metadata": {},
   "source": [
    "### Homework Question\n",
    "\n",
    "Research and explain how modern  systems or  browsers deal with the aspects of the halting problem when a program takes too long to load. Provide examples of mechanisms or strategies implemented in real-world scenarios to manage unresponsive programs or prolonged loading times."
   ]
  },
  {
   "cell_type": "markdown",
   "metadata": {},
   "source": [
    "Modern browsers tend to deal with halting problems of a program that takes too long to load by using different appraoches like caching and error handling. For example if you were searching on a browser such as Google and it takes long for the browser to load the thing you were looking for, then the browser can use the caching method. Using this method the browser is able to store previously loaded resources locally. That way when that individual revisits a page the browser can use cached content to speed up the loading process. This reduces the need to fetch the same resources over and over again. This also applies to for error handling, where if a browser has a error handling mechanism it can help to manage situations where a script or resource fails to load. The browser may display error messages or make actions to prevent the failure of one component from disrupting the entire page."
   ]
  }
 ],
 "metadata": {
  "language_info": {
   "name": "python"
  },
  "orig_nbformat": 4
 },
 "nbformat": 4,
 "nbformat_minor": 2
}
