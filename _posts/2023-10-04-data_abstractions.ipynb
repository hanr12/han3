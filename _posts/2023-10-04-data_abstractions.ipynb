{
 "cells": [
  {
   "cell_type": "code",
   "execution_count": 2,
   "metadata": {},
   "outputs": [
    {
     "name": "stdout",
     "output_type": "stream",
     "text": [
      "10\n"
     ]
    }
   ],
   "source": [
    "x = 10\n",
    "print(x)\n",
    "\n",
    "car = \"Toyota\"\n",
    "print(car)"
   ]
  },
  {
   "cell_type": "markdown",
   "metadata": {},
   "source": [
    "## Data Types"
   ]
  },
  {
   "cell_type": "code",
   "execution_count": 4,
   "metadata": {},
   "outputs": [
    {
     "name": "stdout",
     "output_type": "stream",
     "text": [
      "9 is an interger\n",
      "False is a boolean\n",
      "Hannah is a string\n"
     ]
    }
   ],
   "source": [
    "highScore = 9\n",
    "isRaining = False\n",
    "firstName = \"Hannah\"\n",
    "\n",
    "print(str (highScore) + \" is an interger\")\n",
    "print(str (isRaining) + \" is a boolean\")\n",
    "print(firstName + \" is a string\")\n"
   ]
  },
  {
   "cell_type": "markdown",
   "metadata": {},
   "source": [
    "## Changing Values"
   ]
  },
  {
   "cell_type": "code",
   "execution_count": 5,
   "metadata": {},
   "outputs": [
    {
     "name": "stdout",
     "output_type": "stream",
     "text": [
      "7\n"
     ]
    }
   ],
   "source": [
    "currentScore = 10\n",
    "highScore = currentScore\n",
    "highScore = 7\n",
    "print(str(highScore))"
   ]
  },
  {
   "cell_type": "code",
   "execution_count": 7,
   "metadata": {},
   "outputs": [
    {
     "name": "stdout",
     "output_type": "stream",
     "text": [
      "3\n",
      "3\n",
      "25\n"
     ]
    }
   ],
   "source": [
    "num1 = 25\n",
    "num2 = 15\n",
    "num3 = 3\n",
    "num2 = num3\n",
    "num3 = num1\n",
    "num1 = num2\n",
    "print(str (num1))\n",
    "print(str (num2))\n",
    "print(str (num3))"
   ]
  },
  {
   "cell_type": "markdown",
   "metadata": {},
   "source": [
    "## Strings and Lists"
   ]
  },
  {
   "cell_type": "code",
   "execution_count": 11,
   "metadata": {},
   "outputs": [
    {
     "name": "stdout",
     "output_type": "stream",
     "text": [
      "Hannah\n",
      "Katelyn\n",
      "Ellie\n",
      "Pranavi\n"
     ]
    }
   ],
   "source": [
    "groupNames = [\"Hannah\", \"Katelyn\", \"Ellie\", \"Pranavi\"]\n",
    "print(groupNames[0])\n",
    "print(groupNames[1])\n",
    "print(groupNames[2])\n",
    "print(groupNames[3])"
   ]
  },
  {
   "cell_type": "markdown",
   "metadata": {},
   "source": [
    "## Data Abstraction - Lists"
   ]
  },
  {
   "cell_type": "code",
   "execution_count": 12,
   "metadata": {},
   "outputs": [
    {
     "name": "stdout",
     "output_type": "stream",
     "text": [
      "[32, 25, 96, 55]\n"
     ]
    }
   ],
   "source": [
    "scores1 = [89, 72, 34, 56, 83]\n",
    "scores2 = [32, 25, 96, 55]\n",
    "scores1 = scores2\n",
    "print(str(scores1))"
   ]
  },
  {
   "cell_type": "markdown",
   "metadata": {},
   "source": [
    "## Hacks 1\n",
    "\n",
    "sort the varaiables in the code cell below into these categories and write the adjoining numbers for each type:\n",
    "\n",
    "- Integer: Variable 1\n",
    "- List: Variable 3\n",
    "- Boolean: Variable 4\n",
    "- String: Variable 2"
   ]
  },
  {
   "cell_type": "code",
   "execution_count": 3,
   "metadata": {},
   "outputs": [
    {
     "name": "stdout",
     "output_type": "stream",
     "text": [
      "26\n",
      "Tesla\n",
      "['Nikki', 'Monica', 'Ankit', 'Varun']\n",
      "True\n"
     ]
    }
   ],
   "source": [
    "# Variable 1 \n",
    "\n",
    "numStudents = 26\n",
    "print(numStudents)\n",
    "\n",
    "# Variable 2\n",
    "\n",
    "car = \"Tesla\"\n",
    "print(car)\n",
    "\n",
    "# Variable 3\n",
    "\n",
    "groupMates = [\"Nikki\", \"Monica\", \"Ankit\", \"Varun\"]\n",
    "print(groupMates)\n",
    "\n",
    "# Variables 4\n",
    "\n",
    "dogbeatscats = True\n",
    "print(dogbeatscats)"
   ]
  },
  {
   "cell_type": "markdown",
   "metadata": {},
   "source": [
    "## Hacks 2\n",
    "\n",
    "Now in a separate code cell, define one variable for each type above! Make them unique to your interests and be creative. For your list, convert it to a string using JSON and print it out."
   ]
  },
  {
   "cell_type": "code",
   "execution_count": 3,
   "metadata": {},
   "outputs": [
    {
     "name": "stdout",
     "output_type": "stream",
     "text": [
      "58\n",
      "['Earl Grey', 'Oolong', 'Green', 'Black']\n",
      "True\n",
      "Tulip\n",
      "['Earl Grey', 'Oolong', 'Green', 'Black']\n"
     ]
    }
   ],
   "source": [
    "# Variable 1: Integer\n",
    "\n",
    "numBooks = 58\n",
    "print(numBooks)\n",
    "\n",
    "# Varibale 2: List\n",
    "\n",
    "favTeas = [\"Earl Grey\", \"Oolong\", \"Green\", \"Black\"]\n",
    "print(favTeas)\n",
    "\n",
    "# Variable 3: Boolean\n",
    "\n",
    "booksarecool = True\n",
    "print(booksarecool)\n",
    "\n",
    "#Variable 4: String\n",
    "\n",
    "plant = \"Tulip\"\n",
    "print(plant)\n",
    "\n",
    "# Converted list to string\n",
    "\n",
    "favTeas = [\"Earl Grey\", \"Oolong\", \"Green\", \"Black\"]\n",
    "drinks = favTeas\n",
    "print(str(drinks))\n"
   ]
  }
 ],
 "metadata": {
  "kernelspec": {
   "display_name": "Python 3",
   "language": "python",
   "name": "python3"
  },
  "language_info": {
   "codemirror_mode": {
    "name": "ipython",
    "version": 3
   },
   "file_extension": ".py",
   "mimetype": "text/x-python",
   "name": "python",
   "nbconvert_exporter": "python",
   "pygments_lexer": "ipython3",
   "version": "3.10.8"
  },
  "orig_nbformat": 4
 },
 "nbformat": 4,
 "nbformat_minor": 2
}
