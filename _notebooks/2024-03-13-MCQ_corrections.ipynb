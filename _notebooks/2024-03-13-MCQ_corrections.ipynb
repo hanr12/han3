{
 "cells": [
  {
   "cell_type": "markdown",
   "metadata": {},
   "source": [
    "---\n",
    "toc: true\n",
    "comments: false\n",
    "layout: post\n",
    "title: MCQ Corrections and Popcorn Hacks\n",
    "type: tangibles\n",
    "---"
   ]
  },
  {
   "cell_type": "markdown",
   "metadata": {},
   "source": [
    "**My score: 61/70**\n",
    "\n",
    "## Question 22\n",
    "![image](https://github.com/hanr12/han3/assets/142542338/377dfc2a-a252-474a-a742-054a343bcc14)\n",
    "![image](https://github.com/hanr12/han3/assets/142542338/36bc34a0-999e-40ed-8d7e-14d2e7a59fca)\n",
    "- For this question in particular I had accidentally mis-clicked the wrong answer when I was looking over it. However, the reason on why B is wrong is because this code segment causes the robot to end in the lower-right corner of the grid, facing toward the top of the grid.\n",
    "- This code segment causes the robot to rotate left before moving forward, causing the robot to follow a different path. The robot ends in the upper-right corner of the grid, facing toward the top of the grid."
   ]
  },
  {
   "cell_type": "markdown",
   "metadata": {},
   "source": [
    "## Question 26\n",
    "![image](https://github.com/hanr12/han3/assets/142542338/10db57e4-fbe2-4891-b9a6-9ba140700b6c)\n",
    "- I had originial picked D which is wrong because searching for a key word in multiple documents can be done in parallel, where each processor performs a search on a different document (or part of a document).\n",
    "- The reason as to why A is correct is because the efficiency of a parallel computing solution is limited by the sequential portion of the solution. If each step is dependent on the preceding step, then each step must wait for the previous step to complete before executing. Therefore, the solution is completely sequential and does not benefit from parallel computing."
   ]
  },
  {
   "cell_type": "markdown",
   "metadata": {},
   "source": [
    "## Question 28\n",
    "![image](https://github.com/hanr12/han3/assets/142542338/62008474-4ca3-49e7-b25c-6a69abf6287f)\n",
    "**Answer Options:**\n",
    "- A: j = -5, k = 5\n",
    "- B: j = 0, k = 5\n",
    "- C: j = 5, k = 0\n",
    "- D: j = 5, k = -5\n",
    "\n",
    "**Correct Answer:** D\n",
    "- I chose A which was the incorrect answer, and the reason as to why it is not correct is because -5 will be added to result five times and -25 will be displayed.\n",
    "- And the reason as to why D is correct is because the value of k is repeatedly decremented by 1 inside the loop until k = 0. If k is initially negative, it will continue to decrease without ever reaching 0."
   ]
  },
  {
   "cell_type": "markdown",
   "metadata": {},
   "source": [
    "## Question 49\n",
    "![image](https://github.com/hanr12/han3/assets/142542338/65a63060-88d1-41df-b1e9-b1fbec605460)\n",
    "**Correct Answer:** D\n",
    "- For this question I picked B which is incorrect and the reason as to why it is incorrect is because that while some solutions benefit from parallel computation, not all problems can be solved with an algorithm.\n",
    "- The reason why D is the correct answer is because an undecidable problem is one for which no algorithm can be constructed that is always capable of providing a correct yes-or-no answer. Some instances of an undecidable problem may have an algorithmic solution, but there is no algorithmic solution that could solve all instances of the problem."
   ]
  },
  {
   "cell_type": "markdown",
   "metadata": {},
   "source": [
    "## Question 53\n",
    "![image](https://github.com/hanr12/han3/assets/142542338/f8402f02-6e24-4175-a8aa-11e70828d68c)\n",
    "**Answer Options:**\n",
    "- A: \n",
    "    - Step 4: Repeat steps 2 and 3 until the value of position is greater than n.\n",
    "    - Step 5: If count is greater than or equal to 2, display true. Otherwise, display false.\n",
    "- B:\n",
    "    - Step 4: Repeat steps 2 and 3 until the value of position is greater than n.\n",
    "    - Step 5: If count is greater than or equal to position, display true. Otherwise, display false.\n",
    "- C:\n",
    "    - Step 4: Repeat steps 2 and 3 until the value of count is greater than 2.\n",
    "    - Step 5: If position is greater than or equal to n, display true. Otherwise, display false.\n",
    "- D:\n",
    "    - Step 4: Repeat steps 2 and 3 until the value of count is greater than n.\n",
    "    - Step 5: If count is greater than or equal to 2, display true. Otherwise, display false.\n",
    "\n",
    "**Correct Answer:** B\n",
    "- I chose answer D which is ultimately wrong because it is not possible for count to be greater than n. Steps 2 and 3 will be continually repeated until the algorithm eventually attempts to access a list element at an index beyond the end of the list.\n",
    "- The reason as to why B is the correct answer is because step 4 checks every element of the list, incrementing count each time target appears. Step 5 prints true if and only if count appears multiple times in the list."
   ]
  },
  {
   "cell_type": "markdown",
   "metadata": {},
   "source": [
    "## Question 55\n",
    "![image](https://github.com/hanr12/han3/assets/142542338/9d26d362-d7f3-4360-baa8-411ded5671e2)\n",
    "**Correct Answer:** C\n",
    "- I picked question A which is wrong because this code segment assigns the value of the last element of the list to the variable temp, then removes the last element of the list, then appends temp to the end of the list. The resulting list is the same as the original list.\n",
    "- The reason why answer C is correct is because this code segment assigns the value of the last element of the list to the variable temp, then removes the last element of the list, then inserts temp as the first element of the list."
   ]
  },
  {
   "cell_type": "markdown",
   "metadata": {},
   "source": [
    "## Question 63\n",
    "![image](https://github.com/hanr12/han3/assets/142542338/dad28632-7a13-43d9-863a-63ffda3d131a)\n",
    "**Answer Options:**\n",
    "- A: (NOT input1) OR (NOT input2)\n",
    "- B: (NOT input1) AND (NOT input2)\n",
    "- C: NOT (input1 OR input2)\n",
    "- D: NOT (input1 AND input2)\n",
    "\n",
    "**Correct Answer:** A and D\n",
    "- I picked A and C which is technically half correct with A being correct, but C is incorrect because when input1 is true and input2 is false, then (input1 OR input2) will be true. Therefore, NOT (input1 OR input2) will be false instead of the intended value true.\n",
    "- A and D is correct because for D when input1 and input2 are both true, the expression (input1 AND input2) is true, so NOT (input1 AND input2) will evaluate to false. In all other cases, (input1 AND input2) will evaluate to false, so NOT (input1 AND input2) will evaluate to true. Then for A, when input1 and input2 are both true, the expressions (NOT input1) and (NOT input2) are both false, so (NOT input1) OR (NOT input2) will evaluate to false. In all other cases, either (NOT input1) or (NOT input2) (or both) will evaluate to true, so (NOT input1) OR (NOT input2) will evaluate to true."
   ]
  },
  {
   "cell_type": "markdown",
   "metadata": {},
   "source": [
    "## Question 65\n",
    "![image](https://github.com/hanr12/han3/assets/142542338/ce0cfda0-c505-47f7-a159-3438ec65b942)\n",
    "**Correct Answer:** B and C\n",
    "- I originally picked B and D which again is half correct but not fully correct because D is incorrect. It's wrong because hot AND humid evaluates to false, the body of the IF statement is not executed, and nothing is displayed.\n",
    "- The reason why B and C is correct is because for B NOT humid evaluates to true, the body of the IF statement is executed. Since hot OR humid evaluates to true, true is displayed. And then for C hot OR humid evaluates to true, the body of the IF statement is executed. Since hot is true, true is displayed."
   ]
  },
  {
   "cell_type": "markdown",
   "metadata": {},
   "source": [
    "## Question 69\n",
    "![image](https://github.com/hanr12/han3/assets/142542338/6544f0d0-c0d4-4d25-852e-dfec2e588d05)\n",
    "**Correct Answer:** A and D\n",
    "- I had chosen one correct answer which was D, but my second answer B was incorrect. B is incorrect because the number of clouds in a particular picture cannot be determined from the date, time, and location metadata. To determine this information, the content of the picture itself must be analyzed.\n",
    "- The reason as to why A and D are the correct answers is because for answer D the location and date that a photo is taken is considered metadata about the image. This information can be used to determine whether two pictures were taken at the same location on different dates. And for answer A the time and date that a photo is taken is considered metadata about the image. This information can be used to determine the chronological order of the images."
   ]
  }
 ],
 "metadata": {
  "kernelspec": {
   "display_name": "Python 3",
   "language": "python",
   "name": "python3"
  },
  "language_info": {
   "codemirror_mode": {
    "name": "ipython",
    "version": 3
   },
   "file_extension": ".py",
   "mimetype": "text/x-python",
   "name": "python",
   "nbconvert_exporter": "python",
   "pygments_lexer": "ipython3",
   "version": "3.10.12"
  }
 },
 "nbformat": 4,
 "nbformat_minor": 2
}
